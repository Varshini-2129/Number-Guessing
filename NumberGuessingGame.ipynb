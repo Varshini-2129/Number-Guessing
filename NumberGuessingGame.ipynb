{
  "nbformat": 4,
  "nbformat_minor": 0,
  "metadata": {
    "colab": {
      "provenance": [],
      "authorship_tag": "ABX9TyMqj6zwWfJ5ISqCIF7mh9TB",
      "include_colab_link": true
    },
    "kernelspec": {
      "name": "python3",
      "display_name": "Python 3"
    },
    "language_info": {
      "name": "python"
    }
  },
  "cells": [
    {
      "cell_type": "markdown",
      "metadata": {
        "id": "view-in-github",
        "colab_type": "text"
      },
      "source": [
        "<a href=\"https://colab.research.google.com/github/Varshini-2129/Number-Guessing/blob/main/NumberGuessingGame.ipynb\" target=\"_parent\"><img src=\"https://colab.research.google.com/assets/colab-badge.svg\" alt=\"Open In Colab\"/></a>"
      ]
    },
    {
      "cell_type": "code",
      "execution_count": 1,
      "metadata": {
        "colab": {
          "base_uri": "https://localhost:8080/"
        },
        "id": "ddL3_ZtYwcxH",
        "outputId": "414c5d7b-d056-47b4-bb35-0f31eaca55db"
      },
      "outputs": [
        {
          "output_type": "stream",
          "name": "stdout",
          "text": [
            "Welcome to the Number Guessing Game!\n",
            "\n",
            "I'm thinking of a number between 1 and 100.\n",
            "You have 7 attempts to guess it.\n",
            "\n",
            "Attempt 1: Enter your guess: 8\n",
            "📉 Too low!\n",
            "Attempt 2: Enter your guess: 19\n",
            "📉 Too low!\n",
            "Attempt 3: Enter your guess: 90\n",
            "📈 Too high!\n",
            "Attempt 4: Enter your guess: 56\n",
            "📉 Too low!\n",
            "Attempt 5: Enter your guess: 75\n",
            "📉 Too low!\n",
            "Attempt 6: Enter your guess: 88\n",
            "📈 Too high!\n",
            "Attempt 7: Enter your guess: 83\n",
            "📈 Too high!\n",
            "❌ You've used all your attempts. The number was 80.\n"
          ]
        }
      ],
      "source": [
        "import random\n",
        "\n",
        "def number_guessing_game():\n",
        "    print(\"Welcome to the Number Guessing Game!\")\n",
        "    lower_bound = 1\n",
        "    upper_bound = 100\n",
        "    max_attempts = 7\n",
        "\n",
        "    # Generate a random number between lower_bound and upper_bound\n",
        "    secret_number = random.randint(lower_bound, upper_bound)\n",
        "    attempts = 0\n",
        "\n",
        "    print(f\"\\nI'm thinking of a number between {lower_bound} and {upper_bound}.\")\n",
        "    print(f\"You have {max_attempts} attempts to guess it.\\n\")\n",
        "\n",
        "    while attempts < max_attempts:\n",
        "        try:\n",
        "            guess = int(input(f\"Attempt {attempts + 1}: Enter your guess: \"))\n",
        "        except ValueError:\n",
        "            print(\"❌ Invalid input. Please enter a number.\")\n",
        "            continue\n",
        "\n",
        "        if guess < lower_bound or guess > upper_bound:\n",
        "            print(f\"⚠️ Your guess must be between {lower_bound} and {upper_bound}.\")\n",
        "            continue\n",
        "\n",
        "        attempts += 1\n",
        "\n",
        "        if guess < secret_number:\n",
        "            print(\"📉 Too low!\")\n",
        "        elif guess > secret_number:\n",
        "            print(\"📈 Too high!\")\n",
        "        else:\n",
        "            print(f\"🎉 Congratulations! You guessed the number in {attempts} attempts.\")\n",
        "            break\n",
        "    else:\n",
        "        print(f\"❌ You've used all your attempts. The number was {secret_number}.\")\n",
        "\n",
        "if __name__ == \"__main__\":\n",
        "    number_guessing_game()"
      ]
    }
  ]
}